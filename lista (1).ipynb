{
  "nbformat": 4,
  "nbformat_minor": 0,
  "metadata": {
    "colab": {
      "provenance": []
    },
    "kernelspec": {
      "name": "python3",
      "display_name": "Python 3"
    },
    "language_info": {
      "name": "python"
    }
  },
  "cells": [
    {
      "cell_type": "code",
      "execution_count": null,
      "metadata": {
        "colab": {
          "base_uri": "https://localhost:8080/"
        },
        "id": "BaPkcqRc8L21",
        "outputId": "4bedfe37-fece-4a41-e716-c81940b73355"
      },
      "outputs": [
        {
          "output_type": "stream",
          "name": "stdout",
          "text": [
            "----LOJINHA MIL GRAU----\n",
            "\n",
            "PRODUTOS\n",
            "\n",
            "Abacate: R$5,00\n",
            "Melancia: R$8,00\n",
            "Coca-Cola: R$12,00\n",
            "\n",
            "O dobro do valor desses produtos é de: \n",
            "\n",
            "Abacate: R$10,00\n",
            "Melancia: R$16,00\n",
            "Coca-Cola: R$24,00\n"
          ]
        }
      ],
      "source": [
        "print(\"----LOJINHA MIL GRAU----\\n\")\n",
        "print(\"PRODUTOS\\n\")\n",
        "\n",
        "a = 5\n",
        "b = 8\n",
        "c = 12\n",
        "\n",
        "print(\"Abacate: R$5,00\")\n",
        "print(\"Melancia: R$8,00\")\n",
        "print(\"Coca-Cola: R$12,00\\n\")\n",
        "\n",
        "print(\"O dobro do valor desses produtos é de: \\n\")\n",
        "print(f\"Abacate: R${a*2},00\")\n",
        "print(f\"Melancia: R${b*2},00\")\n",
        "print(f\"Coca-Cola: R${c*2},00\")"
      ]
    },
    {
      "cell_type": "code",
      "source": [
        "print(\"----CURSO ONLINE!----\\n\")\n",
        "print(\"BOAS-VINDAS AOS NOVOS ALUNOS: \\n\")\n",
        "print(\"João\\nMaria\\nCarlos\\n\")\n",
        "print(\"DESEJAMOS UM ÓTIMO ESTUDO!\")"
      ],
      "metadata": {
        "colab": {
          "base_uri": "https://localhost:8080/"
        },
        "id": "JJ3lxFAE9fpb",
        "outputId": "973a4ec2-31da-487a-9d60-dd80672bb8a4"
      },
      "execution_count": null,
      "outputs": [
        {
          "output_type": "stream",
          "name": "stdout",
          "text": [
            "----CURSO ONLINE!----\n",
            "\n",
            "BOAS-VINDAS AOS NOVOS ALUNOS: \n",
            "\n",
            "João\n",
            "Maria\n",
            "Carlos\n",
            "\n",
            "DESEJAMOS UM ÓTIMO ESTUDO!\n"
          ]
        }
      ]
    },
    {
      "cell_type": "code",
      "source": [
        "print(\"----UM JOGO!----\\n\")\n",
        "print(\"OS NÚMEROS SORTEADOS DO DADO FORAM:\\n\")\n",
        "print(\"4 | 7 | 10\\n\")\n",
        "\n",
        "dado = 4\n",
        "dado1 = 7\n",
        "dado2 = 10\n",
        "\n",
        "if dado % 2 == 0:\n",
        "  print(\"Jogador Avança!\")\n",
        "else:\n",
        "  print(\"Jogador Recua!\")\n",
        "\n",
        "if dado1 % 2 == 0:\n",
        "  print(\"Jogador Avança!\")\n",
        "else:\n",
        "  print(\"Jogador Recua!\")\n",
        "\n",
        "if dado2 % 2 == 0:\n",
        "  print(\"Jogador Avança!\")\n",
        "else:\n",
        "  print(\"Jogador Recua!\")"
      ],
      "metadata": {
        "colab": {
          "base_uri": "https://localhost:8080/"
        },
        "id": "V2kTDR_w-EeR",
        "outputId": "392c2ee4-971c-44c6-e944-883369f0f3ab"
      },
      "execution_count": null,
      "outputs": [
        {
          "output_type": "stream",
          "name": "stdout",
          "text": [
            "----UM JOGO!----\n",
            "\n",
            "OS NÚMEROS SORTEADOS DO DADO FORAM:\n",
            "\n",
            "4 | 7 | 10\n",
            "\n",
            "Jogador Avança!\n",
            "Jogador Recua!\n",
            "Jogador Avança!\n"
          ]
        }
      ]
    },
    {
      "cell_type": "code",
      "source": [
        "print(\"----TABUADA!----\\n\")\n",
        "\n",
        "print(\"Tabuada do 2: \\n\")\n",
        "\n",
        "conta = 1\n",
        "for i in range(1,11):\n",
        "  print(f\"{conta} x {2} = {conta*2}\")\n",
        "  conta += 1\n",
        "\n",
        "print(\"\\nTabuada do 3: \\n\")\n",
        "\n",
        "conta = 1\n",
        "for i in range(1,11):\n",
        "  print(f\"{conta} x {3} = {conta*3}\")\n",
        "  conta += 1\n",
        "\n",
        "print(\"\\nTabuada do 4: \\n\")\n",
        "\n",
        "conta = 1\n",
        "for i in range(1,11):\n",
        "  print(f\"{conta} x {4} = {conta*4}\")\n",
        "  conta += 1"
      ],
      "metadata": {
        "colab": {
          "base_uri": "https://localhost:8080/"
        },
        "id": "K44FvnGSBpSG",
        "outputId": "550189a8-69b5-4edc-c6fa-254acd3c5170"
      },
      "execution_count": null,
      "outputs": [
        {
          "output_type": "stream",
          "name": "stdout",
          "text": [
            "----TABUADA!----\n",
            "\n",
            "Tabuada do 2: \n",
            "\n",
            "1 x 2 = 2\n",
            "2 x 2 = 4\n",
            "3 x 2 = 6\n",
            "4 x 2 = 8\n",
            "5 x 2 = 10\n",
            "6 x 2 = 12\n",
            "7 x 2 = 14\n",
            "8 x 2 = 16\n",
            "9 x 2 = 18\n",
            "10 x 2 = 20\n",
            "\n",
            "Tabuada do 3: \n",
            "\n",
            "1 x 3 = 3\n",
            "2 x 3 = 6\n",
            "3 x 3 = 9\n",
            "4 x 3 = 12\n",
            "5 x 3 = 15\n",
            "6 x 3 = 18\n",
            "7 x 3 = 21\n",
            "8 x 3 = 24\n",
            "9 x 3 = 27\n",
            "10 x 3 = 30\n",
            "\n",
            "Tabuada do 4: \n",
            "\n",
            "1 x 4 = 4\n",
            "2 x 4 = 8\n",
            "3 x 4 = 12\n",
            "4 x 4 = 16\n",
            "5 x 4 = 20\n",
            "6 x 4 = 24\n",
            "7 x 4 = 28\n",
            "8 x 4 = 32\n",
            "9 x 4 = 36\n",
            "10 x 4 = 40\n"
          ]
        }
      ]
    },
    {
      "cell_type": "code",
      "source": [
        "print(\"----CINEMINHA!----\\n\")\n",
        "\n",
        "print(\"VERIFICAÇÃO DE IDADE\\n\")\n",
        "\n",
        "cliente1 = 15\n",
        "cliente2 = 20\n",
        "cliente3 = 8\n",
        "\n",
        "print(\"O FILME É RECOMENDADO PARA MAIORES DE 18 ANOS!\\n\")\n",
        "\n",
        "if cliente1 >= 18:\n",
        "  print(f\"O 1° Cliente tem {cliente1} anos! Pode assistir!\")\n",
        "else:\n",
        "  print(f\"O 1° Cliente tem {cliente1} anos! Não pode assistir!\")\n",
        "\n",
        "if cliente2 >= 18:\n",
        "  print(f\"O 2° Cliente tem {cliente2} anos! Pode assistir!\")\n",
        "else:\n",
        "  print(f\"O 2° Cliente tem {cliente2} anos! Não pode assistir!\")\n",
        "\n",
        "if cliente3 >= 18:\n",
        "  print(f\"O 3° Cliente tem {cliente3} anos! Pode assistir!\")\n",
        "else:\n",
        "  print(f\"O 3° Cliente tem {cliente3} anos! Não pode assistir!\")"
      ],
      "metadata": {
        "colab": {
          "base_uri": "https://localhost:8080/"
        },
        "id": "wgQ4Di2YDdhe",
        "outputId": "f0b4e75b-38e7-4a7b-8258-b20ed45135be"
      },
      "execution_count": null,
      "outputs": [
        {
          "output_type": "stream",
          "name": "stdout",
          "text": [
            "----CINEMINHA!----\n",
            "\n",
            "VERIFICAÇÃO DE IDADE\n",
            "\n",
            "O FILME É RECOMENDADO PARA MAIORES DE 18 ANOS!\n",
            "\n",
            "O 1° Cliente tem 15 anos! Não pode assistir!\n",
            "O 2° Cliente tem 20 anos! Pode assistir!\n",
            "O 3° Cliente tem 8 anos! Não pode assistir!\n"
          ]
        }
      ]
    },
    {
      "cell_type": "code",
      "source": [
        "print(\"----LOJINHA----\\n\")\n",
        "print(\"PRODUTOS\\n\")\n",
        "\n",
        "a = 50\n",
        "b = 120\n",
        "c = 200\n",
        "\n",
        "conta1 = a * 0.1\n",
        "conta2 = b * 0.1\n",
        "conta3 = c * 0.1\n",
        "\n",
        "print(\"PREÇO DOS PRODUTOS\\n\")\n",
        "\n",
        "print(\"Fone sem fio: R$50,00\")\n",
        "print(\"Mouse: R$120,00\")\n",
        "print(\"Headset: R$200,00\\n\")\n",
        "\n",
        "print(\"O PREÇO DOS PRODUTOS COM 10% DE DESCONTO!\\n\")\n",
        "\n",
        "print(f\"Fone sem fio: R${a - conta1}0\")\n",
        "print(f\"Mouse: R${b - conta1}0\")\n",
        "print(f\"Headset: R${c - conta1}0\")"
      ],
      "metadata": {
        "colab": {
          "base_uri": "https://localhost:8080/"
        },
        "id": "Vw01M_myD3lD",
        "outputId": "b57cdf62-cfe4-4f9c-e565-65c346563230"
      },
      "execution_count": null,
      "outputs": [
        {
          "output_type": "stream",
          "name": "stdout",
          "text": [
            "----LOJINHA----\n",
            "\n",
            "PRODUTOS\n",
            "\n",
            "PREÇO DOS PRODUTOS\n",
            "\n",
            "Fone sem fio: R$50,00\n",
            "Mouse: R$120,00\n",
            "Headset: R$200,00\n",
            "\n",
            "O PREÇO DOS PRODUTOS COM 10% DE DESCONTO!\n",
            "\n",
            "Fone sem fio: R$45.00\n",
            "Mouse: R$115.00\n",
            "Headset: R$195.00\n"
          ]
        }
      ]
    },
    {
      "cell_type": "code",
      "source": [
        "print(\"----POEMA----\\n\")\n",
        "print(\"QUANTIDADE DE LETRAS NA PALAVRA\\n\")\n",
        "print(\"PALAVRAS\\n\")\n",
        "print(\"Casa | Paralelepípedo | Python\\n\")\n",
        "\n",
        "palavra = \"casa\"\n",
        "contador = 0\n",
        "\n",
        "for letra in palavra:\n",
        "    contador += 1\n",
        "\n",
        "print(f\"A palavra {palavra} possui {contador} letras!\")\n",
        "\n",
        "palavra2 = \"paralelepipedo\"\n",
        "contador = 0\n",
        "\n",
        "for letra in palavra2:\n",
        "    contador += 1\n",
        "\n",
        "print(f\"A palavra {palavra2} possui {contador} letras!\")\n",
        "\n",
        "palavra3 = \"python\"\n",
        "contador = 0\n",
        "\n",
        "for letra in palavra3:\n",
        "    contador += 1\n",
        "\n",
        "print(f\"A palavra {palavra3} possui {contador} letras!\")"
      ],
      "metadata": {
        "colab": {
          "base_uri": "https://localhost:8080/"
        },
        "id": "y5psXBVdGbB3",
        "outputId": "14a42d5f-1c68-46e6-cc89-ab49b516a33c"
      },
      "execution_count": 39,
      "outputs": [
        {
          "output_type": "stream",
          "name": "stdout",
          "text": [
            "----POEMA----\n",
            "\n",
            "QUANTIDADE DE LETRAS NA PALAVRA\n",
            "\n",
            "PALAVRAS\n",
            "\n",
            "Casa | Paralelepípedo | Python\n",
            "\n",
            "A palavra casa possui 4 letras!\n",
            "A palavra paralelepipedo possui 14 letras!\n",
            "A palavra python possui 6 letras!\n"
          ]
        }
      ]
    },
    {
      "cell_type": "code",
      "source": [
        "print(\"----POEMA----\\n\")\n",
        "print(\"QUANTAS LETRAS TEM AS SEGUINTES PALAVRAS:\\n\")\n",
        "print(\"Casa | Paralelepípedo | Python\\n\")\n",
        "\n",
        "palavra1 = \"casa\"\n",
        "contador = 0\n",
        "\n",
        "for letra in palavra1:\n",
        "    contador += 1\n",
        "\n",
        "print(f\"A palavra {palavra1} possui: {contador} letras!\\n\")\n",
        "\n",
        "contador = 0\n",
        "palavra2 = \"paralelepípedo\"\n",
        "\n",
        "for letra in palavra2:\n",
        "    contador += 1\n",
        "\n",
        "print(f\"A palavra {palavra2} possui: {contador} letras!\\n\")\n",
        "\n",
        "palavra3 = \"python\"\n",
        "contador = 0\n",
        "\n",
        "for letra in palavra3:\n",
        "    contador += 1\n",
        "\n",
        "print(f\"A palavra {palavra3} possui: {contador} letras!\\n\")"
      ],
      "metadata": {
        "colab": {
          "base_uri": "https://localhost:8080/"
        },
        "id": "fY1ZVV0pHO-X",
        "outputId": "531904c8-3f5a-4aa9-fc29-2cb1c461e19b"
      },
      "execution_count": null,
      "outputs": [
        {
          "output_type": "stream",
          "name": "stdout",
          "text": [
            "----POEMA----\n",
            "\n",
            "QUANTAS LETRAS TEM AS SEGUINTES PALAVRAS:\n",
            "\n",
            "Casa | Paralelepípedo | Python\n",
            "\n",
            "A palavra casa possui: 4 letras!\n",
            "\n",
            "A palavra paralelepípedo possui: 14 letras!\n",
            "\n",
            "A palavra python possui: 6 letras!\n",
            "\n"
          ]
        }
      ]
    },
    {
      "cell_type": "code",
      "source": [
        "print(\"----TEMPERATURA----\\n\")\n",
        "print(\"CONVERSÃO DAS SEGUINTES TEMPERATURAS PARA FAHRENHEIT:\\n\")\n",
        "print(\"30°C | 100°C | 0°C\\n\")\n",
        "\n",
        "temp1 = 30\n",
        "temp2 = 100\n",
        "temp3 = 0\n",
        "\n",
        "conv1 = (temp1 * (9/5)) + 32\n",
        "conv2 = (temp2 * (9/5)) + 32\n",
        "conv3 = (temp3 * (9/5)) + 32\n",
        "\n",
        "print(f\"A temperatura {temp1}°C em Fahrenheit é: {conv1}°F\")\n",
        "print(f\"A temperatura {temp2}°C em Fahrenheit é: {conv2}°F\")\n",
        "print(f\"A temperatura {temp3}°C em Fahrenheit é: {conv3}°F\")\n"
      ],
      "metadata": {
        "colab": {
          "base_uri": "https://localhost:8080/"
        },
        "id": "bo9EOk6gI5ob",
        "outputId": "f5bf2a87-8969-41dd-b954-23f284e70913"
      },
      "execution_count": null,
      "outputs": [
        {
          "output_type": "stream",
          "name": "stdout",
          "text": [
            "----TEMPERATURA----\n",
            "\n",
            "CONVERSÃO DAS SEGUINTES TEMPERATURAS PARA FAHRENHEIT:\n",
            "\n",
            "30°C | 100°C | 0°C\n",
            "\n",
            "A temperatura 30°C em Fahrenheit é: 86.0°F\n",
            "A temperatura 100°C em Fahrenheit é: 212.0°F\n",
            "A temperatura 0°C em Fahrenheit é: 32.0°F\n"
          ]
        }
      ]
    },
    {
      "cell_type": "code",
      "source": [
        "print(\"----RPG----\\n\")\n",
        "print(\"DIFICULDADE DE JOGO:\\n\")\n",
        "\n",
        "num1 = 3\n",
        "num2 = 9\n",
        "num3 = 12\n",
        "dificuldade1 = \"Pequena\"\n",
        "dificuldade2 = \"Média\"\n",
        "dificuldade3 = \"Grande\"\n",
        "\n",
        "print(f\"A dificuldade do jogo com o número {num1} é: {dificuldade1}\")\n",
        "print(f\"A dificuldade do jogo com o número {num2} é: {dificuldade2}\")\n",
        "print(f\"A dificuldade do jogo com o número {num3} é: {dificuldade3}\")"
      ],
      "metadata": {
        "id": "p2VSpLa9KTNY",
        "colab": {
          "base_uri": "https://localhost:8080/"
        },
        "outputId": "b0c2d24a-d621-4976-8dd3-9f77a6c9def8"
      },
      "execution_count": 1,
      "outputs": [
        {
          "output_type": "stream",
          "name": "stdout",
          "text": [
            "----RPG----\n",
            "\n",
            "DIFICULDADE DE JOGO:\n",
            "\n",
            "A dificuldade do jogo com o número 3 é: Pequena\n",
            "A dificuldade do jogo com o número 9 é: Média\n",
            "A dificuldade do jogo com o número 12 é: Grande\n"
          ]
        }
      ]
    },
    {
      "cell_type": "code",
      "source": [
        "import re\n",
        "\n",
        "print(\"----LIVRO----\\n\")\n",
        "print(\"VERIFICAÇÃO DE PALÍNDROMOS:\\n\")\n",
        "\n",
        "print(\"PALAVRAS\\n\")\n",
        "print(\"Ana ana | 1DSTB-SENAI | Subi no Onibus\\n\")\n",
        "\n",
        "texto = \"Ana ana\"\n",
        "if texto.lower() == texto.lower()[::-1]:\n",
        "    print(\"É um palíndromo!\")\n",
        "else:\n",
        "    print(\"Não é um palíndromo!\")\n",
        "\n",
        "texto = \"1DSTB-SENAI\"\n",
        "if texto.lower() == texto.lower()[::-1]:\n",
        "    print(\"É um palíndromo!\")\n",
        "else:\n",
        "    print(\"Não é um palíndromo!\")\n",
        "\n",
        "texto = \"Subi no Onibus\"\n",
        "if texto.lower() == texto.lower()[::-1]:\n",
        "    print(\"É um palíndromo!\")\n",
        "else:\n",
        "    print(\"Não é um palíndromo!\")"
      ],
      "metadata": {
        "colab": {
          "base_uri": "https://localhost:8080/"
        },
        "id": "IXBRqAsCJv6j",
        "outputId": "6312e178-c88e-4f3e-f2b7-b4e64e72f6f6"
      },
      "execution_count": 12,
      "outputs": [
        {
          "output_type": "stream",
          "name": "stdout",
          "text": [
            "----LIVRO----\n",
            "\n",
            "VERIFICAÇÃO DE PALÍNDROMOS:\n",
            "\n",
            "PALAVRAS\n",
            "\n",
            "Ana ana | 1DSTB-SENAI | Subi no Onibus\n",
            "\n",
            "É um palíndromo!\n",
            "Não é um palíndromo!\n",
            "Não é um palíndromo!\n"
          ]
        }
      ]
    },
    {
      "cell_type": "code",
      "source": [
        "num1 = 3\n",
        "num2 = 7\n",
        "num3 = 9\n",
        "num4 = 25\n",
        "num5 = 26\n",
        "\n",
        "resultado = 1\n",
        "for i in range(1, num1 + 1):\n",
        "    resultado *= i\n",
        "if num1 >= 0:\n",
        "    print(f\"O fatorial de {num1} é {resultado}\")\n",
        "else:\n",
        "    print(f\"Digite um valor válido!\")\n",
        "\n",
        "for i in range(1, num2 + 1):\n",
        "    resultado *= i\n",
        "if num2 >= 0:\n",
        "    print(f\"O fatorial de {num2} é {resultado}\")\n",
        "else:\n",
        "    print(f\"Digite um valor válido!\")\n",
        "\n",
        "for i in range(1, num3 + 1):\n",
        "    resultado *= i\n",
        "if num3 >= 0:\n",
        "    print(f\"O fatorial de {num3} é {resultado}\")\n",
        "else:\n",
        "    print(f\"Digite um valor válido!\")\n",
        "\n",
        "for i in range(1, num4 + 1):\n",
        "    resultado *= i\n",
        "if num4 >= 0:\n",
        "    print(f\"O fatorial de {num4} é {resultado}\")\n",
        "else:\n",
        "    print(f\"Digite um valor válido!\")\n",
        "\n",
        "for i in range(1, num5 + 1):\n",
        "    resultado *= i\n",
        "if num5 >= 0:\n",
        "    print(f\"O fatorial de {num5} é {resultado}\")\n",
        "else:\n",
        "    print(f\"Digite um valor válido!\")"
      ],
      "metadata": {
        "colab": {
          "base_uri": "https://localhost:8080/"
        },
        "id": "ljLpzDv7LRcS",
        "outputId": "d5c12645-ec65-43a7-aa5a-3d3df41ec42d"
      },
      "execution_count": 33,
      "outputs": [
        {
          "output_type": "stream",
          "name": "stdout",
          "text": [
            "O fatorial de 3 é 6\n",
            "O fatorial de 7 é 30240\n",
            "O fatorial de 9 é 10973491200\n",
            "O fatorial de 25 é 170212126911844193382747340800000000\n",
            "O fatorial de 26 é 68645097363744877465473212505899442862069855027200000000000000\n"
          ]
        }
      ]
    }
  ]
}