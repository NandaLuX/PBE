{
  "nbformat": 4,
  "nbformat_minor": 0,
  "metadata": {
    "colab": {
      "provenance": []
    },
    "kernelspec": {
      "name": "python3",
      "display_name": "Python 3"
    },
    "language_info": {
      "name": "python"
    }
  },
  "cells": [
    {
      "cell_type": "code",
      "source": [
        "nome = \"João\"\n",
        "\n",
        "print(nome)"
      ],
      "metadata": {
        "id": "ZHMdxidJnRsM",
        "colab": {
          "base_uri": "https://localhost:8080/"
        },
        "outputId": "84281c3c-a1e6-4930-f621-7e3d42c0c8c4"
      },
      "execution_count": null,
      "outputs": [
        {
          "output_type": "stream",
          "name": "stdout",
          "text": [
            "João\n"
          ]
        }
      ]
    },
    {
      "cell_type": "code",
      "source": [
        "a = 5\n",
        "b = 10\n",
        "soma = a + b\n",
        "sub = a - b\n",
        "div = a / b\n",
        "mult = a * b\n",
        "\n",
        "print(soma,sub,div,mult)"
      ],
      "metadata": {
        "colab": {
          "base_uri": "https://localhost:8080/"
        },
        "id": "I4aHdEZhqi1G",
        "outputId": "72d53156-aaf4-446b-862d-a0a37a25cc3a"
      },
      "execution_count": null,
      "outputs": [
        {
          "output_type": "stream",
          "name": "stdout",
          "text": [
            "15 -5 0.5 50\n"
          ]
        }
      ]
    },
    {
      "cell_type": "code",
      "source": [
        "preco = 50\n",
        "desconto = 10\n",
        "conta = preco - desconto\n",
        "\n",
        "print(\"O preço final com desconto é: \",conta)"
      ],
      "metadata": {
        "colab": {
          "base_uri": "https://localhost:8080/"
        },
        "id": "rzRrJxwrreZj",
        "outputId": "cbb3c75c-b490-4a5a-a3d8-b25fa2ca837d"
      },
      "execution_count": null,
      "outputs": [
        {
          "output_type": "stream",
          "name": "stdout",
          "text": [
            "O preço final com desconto é:  40\n"
          ]
        }
      ]
    },
    {
      "cell_type": "code",
      "source": [
        "a = 10\n",
        "b = 5\n",
        "\n",
        "resultado = a + b * 2\n",
        "\n",
        "print(resultado)"
      ],
      "metadata": {
        "colab": {
          "base_uri": "https://localhost:8080/"
        },
        "id": "iJFwj10pr_LX",
        "outputId": "eb1ae25b-1116-4e70-a18f-dca1cbe8c48c"
      },
      "execution_count": null,
      "outputs": [
        {
          "output_type": "stream",
          "name": "stdout",
          "text": [
            "20\n"
          ]
        }
      ]
    },
    {
      "cell_type": "code",
      "source": [
        "valor = \"150\"\n",
        "conv = valor = 150\n",
        "conta = valor * 2\n",
        "\n",
        "print(conta)"
      ],
      "metadata": {
        "colab": {
          "base_uri": "https://localhost:8080/"
        },
        "id": "GVZrPYawsptJ",
        "outputId": "744ba417-a403-480f-f37d-231a9e1f6c2a"
      },
      "execution_count": null,
      "outputs": [
        {
          "output_type": "stream",
          "name": "stdout",
          "text": [
            "300\n"
          ]
        }
      ]
    },
    {
      "cell_type": "code",
      "source": [
        "a = int(input(\"Digite um número: \"))\n",
        "b = int(input(\"Digite um número: \"))\n",
        "\n",
        "soma = a + b\n",
        "\n",
        "print(\"A soma dos números é: \",soma)"
      ],
      "metadata": {
        "colab": {
          "base_uri": "https://localhost:8080/"
        },
        "id": "USwJLfbutR02",
        "outputId": "b08aa5ba-35e1-442b-9e94-b4c8a1b82383"
      },
      "execution_count": null,
      "outputs": [
        {
          "output_type": "stream",
          "name": "stdout",
          "text": [
            "Digite um número: 4\n",
            "Digite um número: 4\n",
            "A soma dos números é:  8\n"
          ]
        }
      ]
    },
    {
      "cell_type": "code",
      "source": [
        "x = int(input(\"Digite um número: \"))\n",
        "y = int(input(\"Digite um número: \"))\n",
        "conta = x // y\n",
        "\n",
        "print(\"O resultado da divisã inteira é: \", conta)"
      ],
      "metadata": {
        "colab": {
          "base_uri": "https://localhost:8080/"
        },
        "id": "wOOiZD6xt89y",
        "outputId": "c43d89a3-8590-44b6-d00d-7153d5304fd0"
      },
      "execution_count": null,
      "outputs": [
        {
          "output_type": "stream",
          "name": "stdout",
          "text": [
            "Digite um número: 48\n",
            "Digite um número: 5\n",
            "O resultado da divisã inteira é:  9\n"
          ]
        }
      ]
    },
    {
      "cell_type": "code",
      "source": [
        "num1 = int(input(\"Digite um número: \"))\n",
        "num2 = int(input(\"Digite um número: \"))\n",
        "\n",
        "ver = num1 > num2\n",
        "\n",
        "print(ver)"
      ],
      "metadata": {
        "id": "jgFtQOqgukZe",
        "colab": {
          "base_uri": "https://localhost:8080/"
        },
        "outputId": "8e592884-c0fb-4a34-e665-09cfd375c760"
      },
      "execution_count": 2,
      "outputs": [
        {
          "output_type": "stream",
          "name": "stdout",
          "text": [
            "Digite um número: 3\n",
            "Digite um número: 4\n",
            "False\n"
          ]
        }
      ]
    },
    {
      "cell_type": "code",
      "source": [
        "idade = int(input(\"Digite sua idade: \"))\n",
        "conta = idade * 365\n",
        "\n",
        "print(\"Sua idade em dias de vida é igual a: \",conta)"
      ],
      "metadata": {
        "colab": {
          "base_uri": "https://localhost:8080/"
        },
        "id": "_EsgWphEkE3i",
        "outputId": "bae96c63-8b52-4f68-c165-268cc2207047"
      },
      "execution_count": 5,
      "outputs": [
        {
          "output_type": "stream",
          "name": "stdout",
          "text": [
            "Digite sua idade: 18\n",
            "Sua idade em dias de vida é igual a:  6570\n"
          ]
        }
      ]
    },
    {
      "cell_type": "code",
      "source": [
        "base = int(input(\"Digite um número para ser base: \"))\n",
        "expo = int(input(\"Digite um número para ser o expoente: \"))\n",
        "\n",
        "conta = base ** expo\n",
        "\n",
        "print(conta)"
      ],
      "metadata": {
        "colab": {
          "base_uri": "https://localhost:8080/"
        },
        "id": "GZ0Oi9dCk-PG",
        "outputId": "c430aa36-d0a2-439e-c69b-40f4c8c9a849"
      },
      "execution_count": 6,
      "outputs": [
        {
          "output_type": "stream",
          "name": "stdout",
          "text": [
            "Digite um número para ser base: 4\n",
            "Digite um número para ser o expoente: 2\n",
            "16\n"
          ]
        }
      ]
    },
    {
      "cell_type": "code",
      "source": [
        "preco = float(input(\"Diite o valor: \"))\n",
        "\n",
        "\n",
        "print(\"O preço é R$\",str(preco))"
      ],
      "metadata": {
        "colab": {
          "base_uri": "https://localhost:8080/"
        },
        "id": "NLBp9RVwltne",
        "outputId": "4614a23b-199f-449c-f433-d8229f5ab356"
      },
      "execution_count": 8,
      "outputs": [
        {
          "output_type": "stream",
          "name": "stdout",
          "text": [
            "Digite o valor: 69.90\n",
            "O preço é R$ 69.9\n"
          ]
        }
      ]
    },
    {
      "cell_type": "code",
      "source": [
        "raio = int(input(\"Digite o valor do raio: \"))\n",
        "area = 3.14 * raio ** 2\n",
        "print(area)"
      ],
      "metadata": {
        "colab": {
          "base_uri": "https://localhost:8080/"
        },
        "id": "hmqB-1Xumh3-",
        "outputId": "a364abcd-1c47-4bec-eb04-87dd03f83937"
      },
      "execution_count": 15,
      "outputs": [
        {
          "output_type": "stream",
          "name": "stdout",
          "text": [
            "Digite o valor do raio: 5\n",
            "78.5\n"
          ]
        }
      ]
    },
    {
      "cell_type": "code",
      "source": [
        "a = int(input(\"Digite um número: \"))\n",
        "b = int(input(\"Digite um número: \"))\n",
        "troca = a\n",
        "a = b\n",
        "b = troca\n",
        "\n",
        "print(a,b)"
      ],
      "metadata": {
        "colab": {
          "base_uri": "https://localhost:8080/"
        },
        "id": "VqWpZQAtnnB9",
        "outputId": "9079422a-54f2-4597-da10-57f9aff69c3a"
      },
      "execution_count": 21,
      "outputs": [
        {
          "output_type": "stream",
          "name": "stdout",
          "text": [
            "Digite um número: 6\n",
            "Digite um número: 5\n",
            "5 6\n"
          ]
        }
      ]
    },
    {
      "cell_type": "code",
      "source": [
        "nota1 = int(input(\"Digite uma nota: \"))\n",
        "nota2 = int(input(\"Digite uma nota: \"))\n",
        "nota3 = int(input(\"Digite uma nota: \"))\n",
        "peso1 = 2\n",
        "peso2 = 3\n",
        "peso3 = 5\n",
        "media = (nota1 * peso1 + nota2 * peso2 + nota3 * peso3) / (peso1 + peso2 + peso3)\n",
        "\n",
        "print(media)\n",
        "\n",
        "\n"
      ],
      "metadata": {
        "colab": {
          "base_uri": "https://localhost:8080/"
        },
        "id": "p-5tPZ7mqN5d",
        "outputId": "86fe6c12-501a-4743-e46e-a211cf46ab51"
      },
      "execution_count": 23,
      "outputs": [
        {
          "output_type": "stream",
          "name": "stdout",
          "text": [
            "Digite uma nota: 5\n",
            "Digite uma nota: 6\n",
            "Digite uma nota: 4\n",
            "4.8\n"
          ]
        }
      ]
    },
    {
      "cell_type": "code",
      "source": [
        "x1 = float(input(\"Digite o valor de x1: \"))\n",
        "y1 = float(input(\"Digite o valor de x1: \"))\n",
        "x2 = float(input(\"Digite o valor de x1: \"))\n",
        "y2 = float(input(\"Digite o valor de x1: \"))\n",
        "\n",
        "distancia = (x2 - x1) ** 2 + (y2 - y1) ** 2\n",
        "raiz = distancia ** (1/2)\n",
        "\n",
        "print(raiz)"
      ],
      "metadata": {
        "colab": {
          "base_uri": "https://localhost:8080/"
        },
        "id": "riTha8BOq9pE",
        "outputId": "4b0108d7-7548-4a61-82ff-63bab13ac6da"
      },
      "execution_count": 26,
      "outputs": [
        {
          "output_type": "stream",
          "name": "stdout",
          "text": [
            "Digite o valor de x1: 2\n",
            "Digite o valor de x1: 5\n",
            "Digite o valor de x1: 5\n",
            "Digite o valor de x1: 2\n",
            "4.242640687119285\n"
          ]
        }
      ]
    }
  ]
}