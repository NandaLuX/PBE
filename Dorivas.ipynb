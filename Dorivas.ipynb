{
  "nbformat": 4,
  "nbformat_minor": 0,
  "metadata": {
    "colab": {
      "provenance": []
    },
    "kernelspec": {
      "name": "python3",
      "display_name": "Python 3"
    },
    "language_info": {
      "name": "python"
    }
  },
  "cells": [
    {
      "cell_type": "code",
      "execution_count": null,
      "metadata": {
        "colab": {
          "base_uri": "https://localhost:8080/"
        },
        "id": "of6Lc7BLm_6E",
        "outputId": "49f6bc4a-6cd0-43e8-f095-58cd59f4ea7e"
      },
      "outputs": [
        {
          "output_type": "stream",
          "name": "stdout",
          "text": [
            "Digite um número: 4\n",
            "O número é PAR!\n"
          ]
        }
      ],
      "source": [
        "num = int(input(\"Digite um número: \"))\n",
        "\n",
        "if num % 2 == 0:\n",
        "  print(\"O número é PAR!\")\n",
        "else:\n",
        "  print(\"O número é ÍMPAR!\")"
      ]
    },
    {
      "cell_type": "code",
      "source": [
        "num = int(input(\"Digite um número: \"))\n",
        "\n",
        "if num > 10:\n",
        "  print(\"O número é maior que 10!\")\n",
        "else:\n",
        "  print(\"O número é menor que 10!\")"
      ],
      "metadata": {
        "colab": {
          "base_uri": "https://localhost:8080/"
        },
        "id": "XYszYO5qnykr",
        "outputId": "e2ef7549-a3c4-4d71-cf33-61fcbe6c1d3f"
      },
      "execution_count": null,
      "outputs": [
        {
          "output_type": "stream",
          "name": "stdout",
          "text": [
            "Digite um número: 4\n",
            "O número é menor que 10!\n"
          ]
        }
      ]
    },
    {
      "cell_type": "code",
      "source": [
        "idade = int(input(\"Digite sua idade: \"))\n",
        "\n",
        "if idade >= 18:\n",
        "  print(\"Você é maior de idade!\")\n",
        "else:\n",
        "  print(\"Você é menor de idade!\")"
      ],
      "metadata": {
        "colab": {
          "base_uri": "https://localhost:8080/"
        },
        "id": "ZmjitKayoJmc",
        "outputId": "4c2480ad-e749-4f07-8dff-41ee00712e8f"
      },
      "execution_count": null,
      "outputs": [
        {
          "output_type": "stream",
          "name": "stdout",
          "text": [
            "Digite sua idade: 5\n",
            "Você é menor de idade!\n"
          ]
        }
      ]
    },
    {
      "cell_type": "code",
      "source": [
        "idade = int(input(\"Digite sua idade: \"))\n",
        "\n",
        "if idade < 16:\n",
        "  print(\"Não tem voto\")\n",
        "elif idade >= 18 and idade <= 70:\n",
        "  print(\"Voto obrigatório\")\n",
        "else:\n",
        "  print(\"Voto Opcional\")"
      ],
      "metadata": {
        "colab": {
          "base_uri": "https://localhost:8080/"
        },
        "id": "sBniGkxwom0B",
        "outputId": "2076805d-1d7e-4dbf-b789-f6fd5509d6a5"
      },
      "execution_count": null,
      "outputs": [
        {
          "output_type": "stream",
          "name": "stdout",
          "text": [
            "Digite sua idade: 17\n",
            "Voto Opcional\n"
          ]
        }
      ]
    },
    {
      "cell_type": "code",
      "source": [
        "num = int(input(\"Digite um número: \"))\n",
        "\n",
        "if num > 0:\n",
        "  print(\"O número é POSITIVO!\")\n",
        "elif num < 0:\n",
        "  print(\"O número é NEGATIVO!\")\n",
        "else:\n",
        "  print(\"O número é igual a ZERO!\")"
      ],
      "metadata": {
        "colab": {
          "base_uri": "https://localhost:8080/"
        },
        "id": "23eutXG2oxm3",
        "outputId": "5e7711f9-0735-489f-c32a-6c481596c34a"
      },
      "execution_count": null,
      "outputs": [
        {
          "output_type": "stream",
          "name": "stdout",
          "text": [
            "Digite um número: -4\n",
            "O número é NEGATIVO!\n"
          ]
        }
      ]
    },
    {
      "cell_type": "code",
      "source": [
        "nota = int(input(\"Digite sua nota: \"))\n",
        "\n",
        "if nota == 9 or nota == 10:\n",
        "  print(\"Tirou A!\")\n",
        "elif nota == 7 or nota == 8:\n",
        "  print(\"Tirou B!\")\n",
        "elif nota == 5 or nota == 6:\n",
        "  print(\"Tirou C!\")\n",
        "elif nota == 3 or nota == 4:\n",
        "  print(\"Tirou D!\")\n",
        "else:\n",
        "  print(\"Tirou um E!\")"
      ],
      "metadata": {
        "colab": {
          "base_uri": "https://localhost:8080/"
        },
        "id": "knW4mwLRpHZ8",
        "outputId": "a95992eb-bcc7-4e9b-9890-17e8742f265b"
      },
      "execution_count": null,
      "outputs": [
        {
          "output_type": "stream",
          "name": "stdout",
          "text": [
            "Digite sua nota: 2\n",
            "Tirou um E!\n"
          ]
        }
      ]
    },
    {
      "cell_type": "code",
      "source": [
        "idade = int(input(\"Digite sua idade: \"))\n",
        "\n",
        "if idade <= 12:\n",
        "  print(\"Tem direito a desconto!\")\n",
        "elif idade >= 60:\n",
        "  print(\"Tem direito a desconto!\")\n",
        "else:\n",
        "  print(\"Não tem direito a desconto!\")"
      ],
      "metadata": {
        "colab": {
          "base_uri": "https://localhost:8080/"
        },
        "id": "iWTy1zHFqe9I",
        "outputId": "1b9ba556-7b53-4fcf-d978-bb95b79646b9"
      },
      "execution_count": null,
      "outputs": [
        {
          "output_type": "stream",
          "name": "stdout",
          "text": [
            "Digite sua idade: 60\n",
            "Tem direito a desconto!\n"
          ]
        }
      ]
    },
    {
      "cell_type": "code",
      "source": [
        "lado1 = int(input(\"Digite o lado 1: \"))\n",
        "lado2 = int(input(\"Digite o lado 2: \"))\n",
        "lado3 = int(input(\"Digite o lado 3: \"))\n",
        "soma = lado1 + lado2\n",
        "\n",
        "if soma > lado3:\n",
        "  if lado1 == lado2 and lado1 == lado3:\n",
        "    print(\"Triângulo Equilátero!\")\n",
        "  elif lado1 == lado2 or lado1 == lado3 or lado2 == lado3:\n",
        "    print(\"Triângulo Isósceles!\")\n",
        "  elif lado1 != lado2 and lado1 != lado3 and lado2 != lado3:\n",
        "    print(\"triângulo Escaleno!\")\n",
        "else:\n",
        "  print(\"Não é um triângulo!\")"
      ],
      "metadata": {
        "colab": {
          "base_uri": "https://localhost:8080/"
        },
        "id": "-O7-nI7zrP8B",
        "outputId": "d21b0398-4bee-4b28-ad09-7fbf3abbdf15"
      },
      "execution_count": null,
      "outputs": [
        {
          "output_type": "stream",
          "name": "stdout",
          "text": [
            "Digite o lado 1: 3\n",
            "Digite o lado 2: 3\n",
            "Digite o lado 3: 3\n",
            "Triângulo Equilátero!\n"
          ]
        }
      ]
    },
    {
      "cell_type": "code",
      "source": [
        "valor_produto = float(input(\"Digite o valor do produto: \"))\n",
        "desconto1 = 10 / 100 * valor_produto\n",
        "desconto2 = 5 / 100 * valor_produto\n",
        "desconto3 = 15 / 100 * valor_produto\n",
        "valor_cdesconto1 = valor_produto - desconto1\n",
        "valor_cdesconto2 = valor_produto - desconto2\n",
        "valor_cdesconto2 = valor_produto - desconto3\n",
        "\n",
        "print(\"O valor do produto é: \", valor_produto)\n",
        "\n",
        "if valor_produto <= 100:\n",
        " print(\"O valor do produto com desconto de 5% é: \",valor_cdesconto1)\n",
        "elif valor_produto >= 100 and valor_produto <=500:\n",
        "  print(\"O valor do produto com desconto de 10% é: \",valor_cdesconto1)\n",
        "else:\n",
        "  print(\"O valor do produto com desconto de 15% é: \",valor_cdesconto2)"
      ],
      "metadata": {
        "colab": {
          "base_uri": "https://localhost:8080/"
        },
        "id": "6ItCNV8GrFqa",
        "outputId": "066f13bc-b6dc-4342-a924-77b6ad839e4e"
      },
      "execution_count": null,
      "outputs": [
        {
          "output_type": "stream",
          "name": "stdout",
          "text": [
            "Digite o valor da unidade produto: 600\n",
            "O valor do produto é:  600.0\n",
            "O valor do produto com desconto de 15% é:  510.0\n"
          ]
        }
      ]
    },
    {
      "cell_type": "markdown",
      "source": [],
      "metadata": {
        "id": "2ronmVoZsVb2"
      }
    },
    {
      "cell_type": "code",
      "source": [
        "ano = int(input(\"Digite um ano: \"))\n",
        "\n",
        "if ano % 4 == 0  and ano % 100 != 0:\n",
        "  print(\"É bissexto\")\n",
        "  if ano % 400 == 0:\n",
        "    print(\"É bissexto\")\n",
        "else:\n",
        "  print(\"Não é bissexto\")"
      ],
      "metadata": {
        "colab": {
          "base_uri": "https://localhost:8080/"
        },
        "id": "3us52sjouNCu",
        "outputId": "ccfd2303-8df3-4da4-c29f-afb2a8b88bf9"
      },
      "execution_count": null,
      "outputs": [
        {
          "output_type": "stream",
          "name": "stdout",
          "text": [
            "Digite um ano: 2024\n",
            "É bissexto\n"
          ]
        }
      ]
    },
    {
      "cell_type": "code",
      "source": [
        "peso = float(input(\"Digite seu peso: \"))\n",
        "altura = float(input(\"Digite sua altura: \"))\n",
        "\n",
        "IMC = peso / (altura * altura)\n",
        "\n",
        "if IMC < 18.5:\n",
        "  print(\"Abaixo do peso\")\n",
        "elif IMC < 24.9:\n",
        "  print(\"Peso normal\")\n",
        "elif IMC < 29.9:\n",
        "  print(\"Sobrepeso\")\n",
        "else:\n",
        "  print(\"Obesidade\")"
      ],
      "metadata": {
        "colab": {
          "base_uri": "https://localhost:8080/"
        },
        "id": "NxXPmbnCt6pf",
        "outputId": "35768cd3-f943-4d2b-963c-1edf8e74db9d"
      },
      "execution_count": null,
      "outputs": [
        {
          "output_type": "stream",
          "name": "stdout",
          "text": [
            "Digite seu peso: 73.2\n",
            "Digite sua altura: 1.80\n",
            "Peso normal\n"
          ]
        }
      ]
    },
    {
      "cell_type": "code",
      "source": [
        "num1 = int(input(\"Digite um número: \"))\n",
        "num2 = int(input(\"Digite um número: \"))\n",
        "num3 = int(input(\"Digite um número: \"))\n",
        "\n",
        "if num1>num2>num3:\n",
        "  print(\"Ordem Decrescente!\")\n",
        "elif num1<num2<num3:\n",
        "  print(\"Ordem Crescente!\")\n",
        "elif num1==num2==num3:\n",
        "  print(\"Os números são iguais!\")\n",
        "else:\n",
        "  print(\"Não existe ordem!\")"
      ],
      "metadata": {
        "colab": {
          "base_uri": "https://localhost:8080/"
        },
        "id": "2I56gmb5uTng",
        "outputId": "d4c02081-dff4-45c7-b81d-a4aad30457b0"
      },
      "execution_count": null,
      "outputs": [
        {
          "output_type": "stream",
          "name": "stdout",
          "text": [
            "Digite um número: 1\n",
            "Digite um número: 4\n",
            "Digite um número: 7\n",
            "Ordem Crescente!\n"
          ]
        }
      ]
    },
    {
      "cell_type": "code",
      "source": [
        "temp = float(input(\"Digite uma temperatura °C: \"))\n",
        "\n",
        "if temp < 10:\n",
        "  print(\"Frio!\")\n",
        "elif temp >= 10 and temp < 25:\n",
        "  print(\"Aconchegante!\")\n",
        "elif temp >= 25 and temp < 40:\n",
        "  print(\"Quente!\")\n",
        "else:\n",
        "  print(\"Muito quente!\")"
      ],
      "metadata": {
        "id": "Ni073haRwXEk",
        "colab": {
          "base_uri": "https://localhost:8080/"
        },
        "outputId": "c87731a4-5d20-412a-b5d6-6cad8d7ae65e"
      },
      "execution_count": null,
      "outputs": [
        {
          "output_type": "stream",
          "name": "stdout",
          "text": [
            "Digite uma temperatura °C: 45\n",
            "Muito quente!\n"
          ]
        }
      ]
    },
    {
      "cell_type": "code",
      "source": [
        "dia = int(input(\"Digite um dia: \"))\n",
        "mes = int(input(\"Digite um mês: \"))\n",
        "ano = int(input(\"Digite um ano: \"))\n",
        "\n",
        "print(f\"{ano}/{mes}/{dia}\")"
      ],
      "metadata": {
        "colab": {
          "base_uri": "https://localhost:8080/"
        },
        "id": "ghZ2oySrqiHD",
        "outputId": "4b295452-b3e6-434a-8cc0-3456513f7d4e"
      },
      "execution_count": null,
      "outputs": [
        {
          "output_type": "stream",
          "name": "stdout",
          "text": [
            "Digite um dia: 01\n",
            "Digite um mês: 04\n",
            "Digite um ano: 2007\n",
            "2007/4/1\n"
          ]
        }
      ]
    },
    {
      "cell_type": "code",
      "source": [
        "import re\n",
        "\n",
        "senha = input(\"Digite uma senha: \")\n",
        "\n",
        "if len(senha) < 8:\n",
        "  print(\"A senha deve conter no mínimo 8 caracteres!\")\n",
        "elif not re.search(\"[A-Z]\", senha):\n",
        "  print(\"A senha deve conter pelo menos uma letra maiúscula!\")\n",
        "elif not re.search(\"[a-z]\", senha):\n",
        "  print(\"A senha deve conter pelo menos uma letra minúscula!\")\n",
        "elif not re.search(\"[0-9]\", senha):\n",
        "  print(\"A senha deve conter pelo menos um número!\")\n",
        "elif not re.search(\"[!@#$%*&]\", senha):\n",
        "  print(\"A senha deve conter pelo menos um caractare especial!\")\n",
        "else:\n",
        "  print(\"Senha válida!\")"
      ],
      "metadata": {
        "colab": {
          "base_uri": "https://localhost:8080/"
        },
        "id": "8ohe-23brQyH",
        "outputId": "9ec092f9-285c-4fcf-8b76-9e4cded0b7db"
      },
      "execution_count": null,
      "outputs": [
        {
          "output_type": "stream",
          "name": "stdout",
          "text": [
            "Digite uma senha: 1A@#$%*&b\n",
            "Senha válida!\n"
          ]
        }
      ]
    },
    {
      "cell_type": "code",
      "source": [
        "num = int(input(\"Digite um número: \"))\n",
        "conta = num ** 0.5\n",
        "\n",
        "if num < 0:\n",
        "  print(\"Não é possível calcular a raiz quadrada!\")\n",
        "elif num > 100:\n",
        "  print(\"Número muito grande, reduza o valor!\")\n",
        "else:\n",
        "  print(f\"A raiz quadrada de {num} é {conta:.2f}\")"
      ],
      "metadata": {
        "colab": {
          "base_uri": "https://localhost:8080/"
        },
        "id": "CELwhAmezu9g",
        "outputId": "f5cd23e5-fcbf-4725-adfa-ff3e9c1709ca"
      },
      "execution_count": null,
      "outputs": [
        {
          "output_type": "stream",
          "name": "stdout",
          "text": [
            "Digite um número: 8\n",
            "A raiz quadrada de 8 é 2.83\n"
          ]
        }
      ]
    },
    {
      "cell_type": "code",
      "source": [
        "dia = int(input(\"Digite um dia: \"))\n",
        "mes = int(input(\"Digite um mês: \"))\n",
        "ano = int(input(\"Digite um ano: \"))\n",
        "\n",
        "if 1 <= mes <= 12:\n",
        "    if mes in [1, 3, 5, 7, 8, 10, 12]:\n",
        "        max_dia = 31\n",
        "    elif mes in [4, 6, 9, 11]:\n",
        "        max_dia = 30\n",
        "    elif mes == 2:\n",
        "        if ano % 4 == 0 and (ano % 100 != 0 or ano % 400 == 0):\n",
        "            max_dia = 29\n",
        "        else:\n",
        "            max_dia = 28\n",
        "\n",
        "    if 1 <= dia <= max_dia:\n",
        "        print(f\"Data válida: {ano}/{mes}/{dia}\")\n",
        "    else:\n",
        "        print(\"Data inválida!\")\n",
        "else:\n",
        "    print(\"Data inválida!\")\n"
      ],
      "metadata": {
        "colab": {
          "base_uri": "https://localhost:8080/"
        },
        "id": "IGOLij8I4MDD",
        "outputId": "1cdbf733-8723-4b03-9fc0-c4288c620d0d"
      },
      "execution_count": null,
      "outputs": [
        {
          "output_type": "stream",
          "name": "stdout",
          "text": [
            "Digite um dia: 29\n",
            "Digite um mês: 02\n",
            "Digite um ano: 2034\n",
            "Data inválida!\n"
          ]
        }
      ]
    },
    {
      "cell_type": "code",
      "source": [
        "expressao = input(\"Digite uma ecpressão matemática: \")\n",
        "\n",
        "print(f\"O resultado da expressão é: {eval(expressao)}\")"
      ],
      "metadata": {
        "colab": {
          "base_uri": "https://localhost:8080/"
        },
        "id": "2AdKSNPz3l2O",
        "outputId": "82e6542f-a7bb-4419-8ba2-a66da54a8c86"
      },
      "execution_count": null,
      "outputs": [
        {
          "output_type": "stream",
          "name": "stdout",
          "text": [
            "Digite uma ecpressão matemática: 34-45\n",
            "O resultado da expressão é: -11\n"
          ]
        }
      ]
    },
    {
      "cell_type": "code",
      "source": [
        "import re\n",
        "\n",
        "cpf = input(\"Digite seu CPF: \")\n",
        "\n",
        "if re.match (r\"^\\d{3}\\.\\d{3}\\.\\d{3}\\-\\d{2}$\", cpf):\n",
        "  print(\"CPF válido!\")\n",
        "elif len(cpf) != 11:\n",
        "  print(\"CPF inválido!\")\n",
        "else:\n",
        "  print(\"CPF inválido!\")"
      ],
      "metadata": {
        "colab": {
          "base_uri": "https://localhost:8080/"
        },
        "id": "fr27RyoctLL1",
        "outputId": "931e86d1-dead-414b-ef15-72432e7e6c50"
      },
      "execution_count": null,
      "outputs": [
        {
          "output_type": "stream",
          "name": "stdout",
          "text": [
            "Digite seu CPF: 543.654.654-98\n",
            "CPF válido!\n"
          ]
        }
      ]
    },
    {
      "cell_type": "markdown",
      "source": [],
      "metadata": {
        "id": "QKeKWxLPyoG2"
      }
    }
  ]
}